{
 "cells": [
  {
   "cell_type": "markdown",
   "metadata": {},
   "source": [
    "# Interactive Notebook - Solar-Powered Grid Simulator"
   ]
  },
  {
   "cell_type": "markdown",
   "metadata": {},
   "source": [
    "Welcome to the Solar-powered grid simulator. This model is build as a project for the Complex System Simulation course (June, 2018). Here we provide the basic elements to run and visualize your own solar-powered grid simulator.\n",
    "\n",
    "\n",
    "We provide three topologies to play with:\n",
    "\n",
    "* Mean-field approach\n",
    "* Network\n",
    "* Cellular automata"
   ]
  },
  {
   "cell_type": "code",
   "execution_count": 1,
   "metadata": {},
   "outputs": [],
   "source": [
    "# import packages\n",
    "import numpy\n",
    "import matplotlib.pyplot as plt\n",
    "from matplotlib import animation, rc\n",
    "from copy import deepcopy\n",
    "from matplotlib.patches import Patch\n",
    "import datetime\n",
    "from IPython.display import HTML\n",
    "import warnings\n",
    "warnings.filterwarnings('ignore')"
   ]
  },
  {
   "cell_type": "markdown",
   "metadata": {},
   "source": [
    "# Mean-field approach"
   ]
  },
  {
   "cell_type": "markdown",
   "metadata": {},
   "source": [
    "Here you can play around with the mean-field model. You can set the amplitude of the production sine function $a$, the constant consumption rate $c$ and the battery capacity denoted $\\texttt{max_power}$. For $c = a / \\pi$ we expect a "
   ]
  },
  {
   "cell_type": "code",
   "execution_count": 2,
   "metadata": {},
   "outputs": [],
   "source": [
    "# import all functions for mean-field approach from mean_field.py\n",
    "from Network.mean_field_sin import *"
   ]
  },
  {
   "cell_type": "code",
   "execution_count": 4,
   "metadata": {},
   "outputs": [
    {
     "data": {
      "image/png": "[encoded data removed]",
      "text/plain": [
       "<Figure size 432x288 with 2 Axes>"
      ]
     },
     "metadata": {},
     "output_type": "display_data"
    }
   ],
   "source": [
    "# set independent variables for the system\n",
    "N = 50                  # Number of nodes\n",
    "max_it = 500            # Number of iterations\n",
    "init_value = 5          # Initial value for all nodes\n",
    "a = 1                   # Amplitude sine function\n",
    "c = a / np.pi           # Constant consumption value\n",
    "dt = 0.01               # Integration step\n",
    "max_power = 12          # Battery Capacity\n",
    "\n",
    "anim = animate_meanfield(N, a, c, init_value, max_power, max_it, dt, jupyter=True)\n",
    "\n",
    "HTML(anim.to_html5_video())"
   ]
  },
  {
   "cell_type": "markdown",
   "metadata": {},
   "source": [
    "# Network approach"
   ]
  },
  {
   "cell_type": "code",
   "execution_count": null,
   "metadata": {},
   "outputs": [],
   "source": [
    "# import all function for network approach from anim_network.py\n",
    "from Network.anim_network import *"
   ]
  },
  {
   "cell_type": "code",
   "execution_count": null,
   "metadata": {},
   "outputs": [],
   "source": [
    "# set independent variables of the system\n",
    "N =  20                 # number of nodes in the network\n",
    "days = 10               # number of days to simulate\n",
    "max_it = 30            # amount of steps\n",
    "init_power = 2          # initial energy for each node\n",
    "min_power = 2           # minimal energy nodes keep for themselves, the rest is shared with the neighbors\n",
    "max_power = 4           # maximum energy nodes can have\n",
    "a_max = 10              # maxium alpha\n",
    "a_min = 0               # minimum alpha\n",
    "network = \"barabasi\"    # choose network: random, watts, barabasi, ring\n",
    "p = 0.2                 # probability of edge formation\n",
    "k = 4                   # set parameter for network initialization\n",
    "share_energy = True     # whether nodes can share energy\n",
    "\n",
    "\n",
    "# set dependent variables of the system\n",
    "steps_per_day = max_it / days\n",
    "beta = 1.5 * ((a_max+a_min)/2) / np.pi / steps_per_day\n",
    "\n",
    "anim = animate_network(N, days, max_it, init_power, min_power, max_power, a_max, a_min, network, p, k, share_energy, beta, save = False, jupyter = True)"
   ]
  },
  {
   "cell_type": "code",
   "execution_count": null,
   "metadata": {},
   "outputs": [],
   "source": [
    "# Call function to display the animation\n",
    "HTML(anim.to_html5_video())"
   ]
  },
  {
   "cell_type": "markdown",
   "metadata": {},
   "source": [
    "# Cellular Automata Approach"
   ]
  },
  {
   "cell_type": "code",
   "execution_count": null,
   "metadata": {},
   "outputs": [],
   "source": [
    "# import CA class and animate function from cellular_automata.py\n",
    "from CA.cellular_automata import *"
   ]
  },
  {
   "cell_type": "code",
   "execution_count": null,
   "metadata": {},
   "outputs": [],
   "source": [
    "# set potential production = potential consumption\n",
    "alpha_min = 0\n",
    "alpha_max = 10\n",
    "beta = ((alpha_min + alpha_max) / 2) * 0.31831\n",
    "\n",
    "# set number of steps\n",
    "max_step = 500\n",
    "\n",
    "# initialize CA\n",
    "c = CA(n = 25,\n",
    "       days = 10,\n",
    "       max_step = 500,\n",
    "       energy_start = 1.59 / 2,\n",
    "       alpha_min = alpha_min,\n",
    "       alpha_max = alpha_max,\n",
    "       beta = beta,\n",
    "       energy_max = 1.59,\n",
    "       energy_min = 1.59,\n",
    "       max_transfer = 0,\n",
    "       cells_can_die = True,\n",
    "       take_panels_if_died = False)\n",
    "\n",
    "# runs and animates the cellular automata\n",
    "anim = animate_CA(c, save = False, jupyter = True)"
   ]
  },
  {
   "cell_type": "code",
   "execution_count": null,
   "metadata": {
    "scrolled": false
   },
   "outputs": [],
   "source": [
    "# Call function to display the animation\n",
    "HTML(anim.to_html5_video())"
   ]
  },
  {
   "cell_type": "code",
   "execution_count": null,
   "metadata": {},
   "outputs": [],
   "source": []
  }
 ],
 "metadata": {
  "kernelspec": {
   "display_name": "Python 3",
   "language": "python",
   "name": "python3"
  },
  "language_info": {
   "codemirror_mode": {
    "name": "ipython",
    "version": 3
   },
   "file_extension": ".py",
   "mimetype": "text/x-python",
   "name": "python",
   "nbconvert_exporter": "python",
   "pygments_lexer": "ipython3",
   "version": "3.5.2"
  }
 },
 "nbformat": 4,
 "nbformat_minor": 2
}

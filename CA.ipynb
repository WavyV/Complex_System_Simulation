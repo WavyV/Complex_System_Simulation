{
 "cells": [
  {
   "cell_type": "code",
   "execution_count": 6,
   "metadata": {},
   "outputs": [],
   "source": [
    "%matplotlib inline\n",
    "import numpy\n",
    "import matplotlib.pyplot as plt\n",
    "from matplotlib import animation, rc\n",
    "from IPython.display import HTML\n",
    "from numba import autojit"
   ]
  },
  {
   "cell_type": "code",
   "execution_count": 65,
   "metadata": {},
   "outputs": [],
   "source": [
    "# Mask to select neighbours\n",
    "mask = numpy.array([[0, 1, 0], [1, 0, 1], [0, 1, 0]])\n",
    "\n",
    "class CA(object):\n",
    "    def __init__(self, n=100, dt=0.1, max_step=1000):\n",
    "        self.n = n\n",
    "        \n",
    "        # Max limit for energy\n",
    "        self.maxenergy = 10\n",
    "        \n",
    "        # Energy\n",
    "        self.energy = numpy.zeros([n, n])\n",
    "        self.energy[1:n-1, 1:n-1] = 10\n",
    "        self.allocated_energy = numpy.zeros([n, n])\n",
    "        \n",
    "        # Alpha\n",
    "        self.alpha = numpy.zeros([n, n])\n",
    "        self.alpha[1:n-1, 1:n-1] = numpy.random.uniform(0, 1, size=[n-2, n-2])\n",
    "        self.allocated_alpha = numpy.zeros([n, n])\n",
    "        \n",
    "        # Beta\n",
    "        self.beta = 1\n",
    "\n",
    "        # Time\n",
    "        self.t = 0\n",
    "        self.dt = dt\n",
    "        self.stepnum = 0\n",
    "        \n",
    "        # STATS\n",
    "        self.STAT_alloc_energy = numpy.zeros(max_step)\n",
    "        self.STAT_alloc_panels = numpy.zeros(max_step)\n",
    "        self.STAT_total_active = numpy.zeros(max_step)\n",
    "        self.STAT_total_energy = numpy.zeros(max_step)\n",
    "    \n",
    "    \n",
    "    def step(self):\n",
    "        # Time\n",
    "        self.t = self.t + self.dt\n",
    "        \n",
    "        \n",
    "        # Produce energy\n",
    "        self.produce()\n",
    "        \n",
    "        # Allocate energy\n",
    "        self.reallocate_energy()\n",
    "        self.STAT_total_energy[self.stepnum] = numpy.sum(self.energy)\n",
    "        \n",
    "        # Consume energy\n",
    "        self.consume()\n",
    "        self.STAT_total_active[self.stepnum] = numpy.sum(self.energy>0)/(self.n-2)**2\n",
    "        \n",
    "        # Get dead neighbours' solar panels\n",
    "        self.reallocate_panels()\n",
    "        \n",
    "        self.stepnum = self.stepnum + 1\n",
    "        return self.energy\n",
    "        \n",
    "    def produce(self):\n",
    "        self.energy = self.energy + self.alpha*(1+numpy.sin(self.t))\n",
    "    \n",
    "    def consume(self):\n",
    "        self.energy = self.energy - self.beta\n",
    "        self.energy[self.energy<0] = 0\n",
    "        \n",
    "    def reallocate_energy(self):\n",
    "        # Allocation is uniform among the neighbours\n",
    "        self.allocated_energy = numpy.zeros([self.n, self.n])\n",
    "        for i in numpy.arange(1, self.n-1):\n",
    "            for j in numpy.arange(1, self.n-1):\n",
    "                if self.energy[i, j] > self.maxenergy:\n",
    "                    alloc_e = self.energy[i, j] - self.maxenergy\n",
    "                    # Number of active neighbours\n",
    "                    n_neigh = numpy.sum(self.energy[i-1:i+2, j-1:j+2][mask==1] > 0)\n",
    "                    # Alloctate energy among all neighbours\n",
    "                    if n_neigh > 0:\n",
    "                        if self.energy[i+1, j] > 0:\n",
    "                            self.allocated_energy[i+1, j] += alloc_e/n_neigh\n",
    "                        if self.energy[i-1, j] > 0:\n",
    "                            self.allocated_energy[i-1, j] += alloc_e/n_neigh\n",
    "                        if self.energy[i, j-1] > 0:\n",
    "                            self.allocated_energy[i, j-1] += alloc_e/n_neigh\n",
    "                        if self.energy[i, j+1] > 0:\n",
    "                            self.allocated_energy[i, j+1] += alloc_e/n_neigh\n",
    "      \n",
    "                        # Stat\n",
    "                        self.STAT_alloc_energy[self.stepnum] += alloc_e\n",
    "                        \n",
    "                    \n",
    "        self.energy = self.energy + self.allocated_energy\n",
    "        self.energy[self.energy>self.maxenergy] = self.maxenergy\n",
    "\n",
    "    def reallocate_panels(self):\n",
    "        self.allocated_alpha = numpy.zeros([self.n, self.n])\n",
    "        # If it has only one neighbour, it takes all panels\n",
    "        for i in numpy.arange(1, self.n-1):\n",
    "            for j in numpy.arange(1, self.n-1):\n",
    "                if self.energy[i, j] == 0:\n",
    "                    # Number of active neighbours\n",
    "                    n_neigh = numpy.sum(self.energy[i-1:i+2, j-1:j+2][mask==1] > 0)\n",
    "                    # Alloctate solar panel capacity among neighbours\n",
    "                    if n_neigh > 0:\n",
    "                        if self.energy[i+1, j] > 0:\n",
    "                            self.allocated_alpha[i+1, j] += self.alpha[i, j]/n_neigh\n",
    "                        if self.energy[i-1, j] > 0:\n",
    "                            self.allocated_alpha[i-1, j] += self.alpha[i, j]/n_neigh\n",
    "                        if self.energy[i, j-1] > 0:\n",
    "                            self.allocated_alpha[i, j-1] += self.alpha[i, j]/n_neigh\n",
    "                        if self.energy[i, j+1] > 0:\n",
    "                            self.allocated_alpha[i, j+1] += self.alpha[i, j]/n_neigh\n",
    "                        \n",
    "                        # Stat\n",
    "                        \n",
    "                        self.alpha[i, j] = 0\n",
    "        self.STAT_alloc_panels[self.stepnum] = numpy.sum(self.allocated_alpha)\n",
    "        self.alpha = self.alpha + self.allocated_alpha"
   ]
  },
  {
   "cell_type": "code",
   "execution_count": 66,
   "metadata": {},
   "outputs": [],
   "source": [
    "c = CA(51, dt=0.2, max_step=100)"
   ]
  },
  {
   "cell_type": "code",
   "execution_count": 67,
   "metadata": {},
   "outputs": [],
   "source": [
    "for i in range(100):\n",
    "    c.step()"
   ]
  },
  {
   "cell_type": "code",
   "execution_count": 69,
   "metadata": {},
   "outputs": [
    {
     "data": {
      "text/plain": [
       "<matplotlib.legend.Legend at 0x7f0cf7ac4208>"
      ]
     },
     "execution_count": 69,
     "metadata": {},
     "output_type": "execute_result"
    },
    {
     "data": {
      "image/png": "[encoded data removed]",
      "text/plain": [
       "<Figure size 432x288 with 2 Axes>"
      ]
     },
     "metadata": {},
     "output_type": "display_data"
    }
   ],
   "source": [
    "fig = plt.figure()\n",
    "ax1 = fig.add_subplot(1, 1, 1)\n",
    "\n",
    "ax1.plot(c.STAT_total_active, c='b', label='Active cells')\n",
    "ax1.set_ylim([0, 1.1])\n",
    "ax1.legend(loc=3)\n",
    "\n",
    "ax2 = ax1.twinx()\n",
    "ax2.plot(numpy.sin(numpy.linspace(0, c.t, num=100)), c='r', label='Production')\n",
    "ax2.legend(loc=4)"
   ]
  },
  {
   "cell_type": "code",
   "execution_count": 71,
   "metadata": {},
   "outputs": [
    {
     "data": {
      "text/plain": [
       "<matplotlib.legend.Legend at 0x7f0cf799c208>"
      ]
     },
     "execution_count": 71,
     "metadata": {},
     "output_type": "execute_result"
    },
    {
     "data": {
      "image/png": "[encoded data removed]",
      "text/plain": [
       "<Figure size 432x288 with 2 Axes>"
      ]
     },
     "metadata": {},
     "output_type": "display_data"
    }
   ],
   "source": [
    "fig = plt.figure()\n",
    "ax1 = fig.add_subplot(1, 1, 1)\n",
    "\n",
    "ax1.plot(c.STAT_alloc_energy, c='b', label='Reallocated energy')\n",
    "ax1.legend(loc=1)\n",
    "\n",
    "ax2 = ax1.twinx()\n",
    "ax2.plot(c.STAT_alloc_panels, c='r', label='Reallocated solar panels')\n",
    "ax2.legend(loc=2)"
   ]
  },
  {
   "cell_type": "code",
   "execution_count": null,
   "metadata": {},
   "outputs": [],
   "source": []
  },
  {
   "cell_type": "code",
   "execution_count": null,
   "metadata": {},
   "outputs": [],
   "source": []
  },
  {
   "cell_type": "code",
   "execution_count": null,
   "metadata": {},
   "outputs": [],
   "source": []
  },
  {
   "cell_type": "code",
   "execution_count": null,
   "metadata": {},
   "outputs": [],
   "source": []
  },
  {
   "cell_type": "code",
   "execution_count": null,
   "metadata": {},
   "outputs": [],
   "source": []
  },
  {
   "cell_type": "code",
   "execution_count": null,
   "metadata": {},
   "outputs": [],
   "source": []
  },
  {
   "cell_type": "code",
   "execution_count": null,
   "metadata": {},
   "outputs": [],
   "source": []
  },
  {
   "cell_type": "code",
   "execution_count": null,
   "metadata": {},
   "outputs": [],
   "source": []
  },
  {
   "cell_type": "code",
   "execution_count": null,
   "metadata": {},
   "outputs": [],
   "source": []
  },
  {
   "cell_type": "code",
   "execution_count": null,
   "metadata": {},
   "outputs": [],
   "source": []
  },
  {
   "cell_type": "code",
   "execution_count": null,
   "metadata": {},
   "outputs": [],
   "source": []
  },
  {
   "cell_type": "code",
   "execution_count": null,
   "metadata": {},
   "outputs": [],
   "source": []
  },
  {
   "cell_type": "code",
   "execution_count": null,
   "metadata": {},
   "outputs": [],
   "source": []
  },
  {
   "cell_type": "code",
   "execution_count": null,
   "metadata": {},
   "outputs": [],
   "source": []
  },
  {
   "cell_type": "code",
   "execution_count": null,
   "metadata": {},
   "outputs": [],
   "source": []
  },
  {
   "cell_type": "code",
   "execution_count": null,
   "metadata": {},
   "outputs": [],
   "source": []
  },
  {
   "cell_type": "code",
   "execution_count": null,
   "metadata": {},
   "outputs": [],
   "source": []
  }
 ],
 "metadata": {
  "kernelspec": {
   "display_name": "Python 3",
   "language": "python",
   "name": "python3"
  },
  "language_info": {
   "codemirror_mode": {
    "name": "ipython",
    "version": 3
   },
   "file_extension": ".py",
   "mimetype": "text/x-python",
   "name": "python",
   "nbconvert_exporter": "python",
   "pygments_lexer": "ipython3",
   "version": "3.6.5"
  }
 },
 "nbformat": 4,
 "nbformat_minor": 2
}
